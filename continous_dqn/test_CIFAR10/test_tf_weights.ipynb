{
 "cells": [
  {
   "cell_type": "code",
   "execution_count": 1,
   "metadata": {
    "collapsed": true
   },
   "outputs": [],
   "source": [
    "import tensorflow as tf\n",
    "import numpy as np"
   ]
  },
  {
   "cell_type": "code",
   "execution_count": 2,
   "metadata": {
    "collapsed": true
   },
   "outputs": [],
   "source": [
    "sess = tf.InteractiveSession()"
   ]
  },
  {
   "cell_type": "code",
   "execution_count": 3,
   "metadata": {
    "collapsed": false
   },
   "outputs": [],
   "source": [
    "weights = np.random.rand(3, 3, 256, 256)"
   ]
  },
  {
   "cell_type": "code",
   "execution_count": 4,
   "metadata": {
    "collapsed": false
   },
   "outputs": [],
   "source": [
    "w = tf.Variable(weights, tf.float32)"
   ]
  },
  {
   "cell_type": "code",
   "execution_count": 5,
   "metadata": {
    "collapsed": false
   },
   "outputs": [
    {
     "data": {
      "text/plain": [
       "[3, 3, 256, 256]"
      ]
     },
     "execution_count": 5,
     "metadata": {},
     "output_type": "execute_result"
    }
   ],
   "source": [
    "shape = w.get_shape().as_list()\n",
    "shape"
   ]
  },
  {
   "cell_type": "code",
   "execution_count": 6,
   "metadata": {
    "collapsed": false
   },
   "outputs": [
    {
     "data": {
      "text/plain": [
       "<tf.Tensor 'Reshape:0' shape=(3, 3, 65536) dtype=float64>"
      ]
     },
     "execution_count": 6,
     "metadata": {},
     "output_type": "execute_result"
    }
   ],
   "source": [
    "w = tf.reshape(w, (shape[0], shape[1], shape[2] * shape[3]))\n",
    "w"
   ]
  },
  {
   "cell_type": "code",
   "execution_count": 7,
   "metadata": {
    "collapsed": false
   },
   "outputs": [
    {
     "data": {
      "text/plain": [
       "<tf.Tensor 'pack:0' shape=(6,) dtype=float64>"
      ]
     },
     "execution_count": 7,
     "metadata": {},
     "output_type": "execute_result"
    }
   ],
   "source": [
    "def get_gc(m):\n",
    "    pow_2 = tf.constant(1.5, tf.float64)\n",
    "    r = tf.reshape(m, [-1])\n",
    "    size = r.get_shape().as_list()[0]\n",
    "    # First moment: mean\n",
    "    m1 = tf.reduce_mean(r)\n",
    "    # Second Moment: standard deviation\n",
    "    m2 = tf.div(tf.reduce_mean(tf.square(tf.sub(r, m1))), size)\n",
    "    # Third moment\n",
    "    m3 = tf.div(tf.reduce_mean(tf.pow((tf.sub(r, m1)), 3)), size)\n",
    "    # Fourth Moment\n",
    "    m4 = tf.div(tf.reduce_mean(tf.pow((tf.sub(r, m1)), 4)), size)\n",
    "    # Skewness\n",
    "    m5 = tf.pow(tf.div(m3, m2), 2)\n",
    "    # Kurtosis\n",
    "    m6 = tf.div(m4, tf.square(m2))\n",
    "    gc = tf.pack([m1, m2, m3, m4, m5, m6])\n",
    "    return gc\n",
    "\n",
    "get_gc(w)"
   ]
  },
  {
   "cell_type": "code",
   "execution_count": 8,
   "metadata": {
    "collapsed": false
   },
   "outputs": [],
   "source": [
    "def get_hd(s_param, type):\n",
    "    s = s_param\n",
    "    row = s.get_shape().as_list()[0]\n",
    "    col = s.get_shape().as_list()[1]\n",
    "    dim1 = s.get_shape().as_list()[2]\n",
    "    size = row\n",
    "\n",
    "    if type == 1:\n",
    "        size = row * col\n",
    "        s = tf.reshape(s, [size, dim1])\n",
    "\n",
    "    lst = []\n",
    "    for i in range(0, size):\n",
    "        gc = get_gc(s[i])\n",
    "        lst.append(gc)\n",
    "        \n",
    "    g = tf.pack(lst)\n",
    "\n",
    "    lst_2 = []\n",
    "    for i in range(0, 6):\n",
    "        size = g[i].get_shape().as_list()[0]\n",
    "        # First momen: mean\n",
    "        hd1 = tf.reduce_mean(g[i])\n",
    "        # Second Moment: standard deviation\n",
    "        hd2 = tf.div(tf.reduce_mean(tf.square(tf.sub(g[i], hd1))), size)\n",
    "        # Third moment\n",
    "        hd3 = tf.div(tf.reduce_mean(tf.pow((tf.sub(g[i], hd1)), 3)), size)\n",
    "        # Fourth Moment\n",
    "        hd4 = tf.div(tf.reduce_mean(tf.pow((tf.sub(g[i], hd1)), 4)), size)\n",
    "        # Skewness\n",
    "        hd5 = tf.pow(tf.div(hd3, hd2), 1.5)\n",
    "        # Kurtosis\n",
    "        hd6 = tf.div(hd4, tf.square(hd2))\n",
    "        # Pack\n",
    "        hd = tf.pack([hd1, hd2, hd3, hd4, hd5, hd6])\n",
    "        lst_2.append(hd)\n",
    "    h = tf.pack(lst_2)\n",
    "    return h"
   ]
  },
  {
   "cell_type": "code",
   "execution_count": 9,
   "metadata": {
    "collapsed": false
   },
   "outputs": [],
   "source": [
    "# get_hd(w, 0)[:]"
   ]
  },
  {
   "cell_type": "code",
   "execution_count": 10,
   "metadata": {
    "collapsed": false
   },
   "outputs": [],
   "source": [
    "# get_hd(w, 1)[:]"
   ]
  },
  {
   "cell_type": "code",
   "execution_count": 11,
   "metadata": {
    "collapsed": true
   },
   "outputs": [],
   "source": [
    "# res[len(res) + 1] = get_hd(tf.transpose(w), 0)[:]\n",
    "# This takes forever to run. It's problematic and causes our iterations to jump from 0.3s to 6s. "
   ]
  },
  {
   "cell_type": "code",
   "execution_count": 12,
   "metadata": {
    "collapsed": false
   },
   "outputs": [],
   "source": [
    "res = {}"
   ]
  },
  {
   "cell_type": "code",
   "execution_count": 13,
   "metadata": {
    "collapsed": false
   },
   "outputs": [],
   "source": [
    "res[len(res) + 1] = get_gc(w)\n",
    "#res[len(res) + 1] = get_hd(w, 0)[:]\n",
    "res[len(res) + 1] = get_hd(w, 1)[:]\n",
    "# len(res) + 1 \n",
    "# This should give 4"
   ]
  },
  {
   "cell_type": "code",
   "execution_count": 14,
   "metadata": {
    "collapsed": false
   },
   "outputs": [],
   "source": [
    "state = tf.reshape(res[1], [6, 1])"
   ]
  },
  {
   "cell_type": "code",
   "execution_count": 15,
   "metadata": {
    "collapsed": false
   },
   "outputs": [
    {
     "data": {
      "text/plain": [
       "<tf.Tensor 'Reshape_14:0' shape=(42,) dtype=float64>"
      ]
     },
     "execution_count": 15,
     "metadata": {},
     "output_type": "execute_result"
    }
   ],
   "source": [
    "for i in range(2, len(res) + 1):\n",
    "    state = tf.concat(1, [state, res[i]])\n",
    "\n",
    "st = tf.reshape(state, [-1])\n",
    "st"
   ]
  },
  {
   "cell_type": "code",
   "execution_count": 16,
   "metadata": {
    "collapsed": false
   },
   "outputs": [
    {
     "data": {
      "text/plain": [
       "(3, 3, 65536)"
      ]
     },
     "execution_count": 16,
     "metadata": {},
     "output_type": "execute_result"
    }
   ],
   "source": [
    "sess.run(tf.initialize_all_variables())\n",
    "wt = sess.run(w)\n",
    "wt.shape"
   ]
  },
  {
   "cell_type": "code",
   "execution_count": 17,
   "metadata": {
    "collapsed": false
   },
   "outputs": [
    {
     "data": {
      "text/plain": [
       "array([  5.00151697e-01,   1.96175257e+04,   3.20702834e+08,\n",
       "         2.51654564e+13,   2.59182775e+18,   2.19812821e+07,\n",
       "         2.52000000e+01,   1.41295009e-07,   1.96099708e+04,\n",
       "         3.20455867e+08,   2.51363928e+13,   2.58783746e+18,\n",
       "         2.19685854e+07,   2.52000000e+01,   5.72964749e-11,\n",
       "         1.96953697e+04,   3.23253028e+08,   2.54662218e+13,\n",
       "         2.63321151e+18,   2.21122468e+07,   2.52000000e+01,\n",
       "         2.12069257e-08,   1.96137573e+04,   3.20579623e+08,\n",
       "         2.51509553e+13,   2.58983663e+18,   2.19749481e+07,\n",
       "         2.52000000e+01,   1.64437992e-07,   1.96945220e+04,\n",
       "         3.23225217e+08,   2.54629354e+13,   2.63275843e+18,\n",
       "         2.21108200e+07,   2.52000000e+01,   1.06224348e+06,\n",
       "         1.97263793e+04,   3.24271746e+08,   2.55867001e+13,\n",
       "         2.64983456e+18,   2.21644906e+07,   2.52000000e+01])"
      ]
     },
     "execution_count": 17,
     "metadata": {},
     "output_type": "execute_result"
    }
   ],
   "source": [
    "st.eval()"
   ]
  },
  {
   "cell_type": "code",
   "execution_count": null,
   "metadata": {
    "collapsed": true
   },
   "outputs": [],
   "source": []
  }
 ],
 "metadata": {
  "anaconda-cloud": {},
  "kernelspec": {
   "display_name": "Python [default]",
   "language": "python",
   "name": "python3"
  },
  "language_info": {
   "codemirror_mode": {
    "name": "ipython",
    "version": 3
   },
   "file_extension": ".py",
   "mimetype": "text/x-python",
   "name": "python",
   "nbconvert_exporter": "python",
   "pygments_lexer": "ipython3",
   "version": "3.5.2"
  }
 },
 "nbformat": 4,
 "nbformat_minor": 1
}
